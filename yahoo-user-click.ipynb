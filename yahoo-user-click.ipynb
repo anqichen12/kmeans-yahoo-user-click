{
 "cells": [
  {
   "cell_type": "markdown",
   "metadata": {},
   "source": [
    "# Q1"
   ]
  },
  {
   "cell_type": "code",
   "execution_count": 701,
   "metadata": {
    "collapsed": true
   },
   "outputs": [],
   "source": [
    "import gzip\n",
    "import numpy as np\n",
    "from numpy import linalg as LA"
   ]
  },
  {
   "cell_type": "code",
   "execution_count": 702,
   "metadata": {
    "collapsed": true
   },
   "outputs": [],
   "source": [
    "i = 0\n",
    "matrix = np.zeros(shape=(4681992,6),dtype = np.single)\n",
    "with gzip.open('ydata-fp-td-clicks-v1_0.20090501.gz','rt') as fin: \n",
    "            for line in fin:\n",
    "                # get user\n",
    "                l = line.split(\"|\")[1].split(\" \")[1:-1]\n",
    "                for x in l:\n",
    "                    matrix[i][int(x.split(\":\")[0]) - 1] = np.double(x.split(\":\")[1])\n",
    "                i += 1"
   ]
  },
  {
   "cell_type": "markdown",
   "metadata": {},
   "source": [
    "# Q2"
   ]
  },
  {
   "cell_type": "code",
   "execution_count": 703,
   "metadata": {
    "collapsed": true
   },
   "outputs": [],
   "source": [
    "def compute_distance(X1,X2):\n",
    "    D = LA.norm(X1-X2)\n",
    "    return D"
   ]
  },
  {
   "cell_type": "code",
   "execution_count": 704,
   "metadata": {
    "collapsed": true
   },
   "outputs": [],
   "source": [
    "## randomized centroid initialization\n",
    "def init_centroid_kmeans(k,X):\n",
    "    num,dim = X.shape\n",
    "    #select k random points from data\n",
    "    idx = np.random.randint(num, size=k)\n",
    "    return X[idx,:]"
   ]
  },
  {
   "cell_type": "code",
   "execution_count": 705,
   "metadata": {
    "collapsed": true
   },
   "outputs": [],
   "source": [
    "## find the distance from point x to nearest centroid in centroids \n",
    "def d_to_nearest_point(x,centroids):\n",
    "    res = compute_distance(x,centroids[0])\n",
    "    for j in range(0,len(centroids)-1):\n",
    "        d = compute_distance(x,centroids[j])\n",
    "        if d<res:\n",
    "            res = d\n",
    "    return res"
   ]
  },
  {
   "cell_type": "code",
   "execution_count": 706,
   "metadata": {
    "collapsed": true
   },
   "outputs": [],
   "source": [
    "## kmeans++ initialization method\n",
    "def init_centroid_kmeanspp(k,X):\n",
    "    num,dim = X.shape\n",
    "    centroids = []\n",
    "    centroid_1=X[np.random.randint(num),:]\n",
    "    centroids.append(centroid_1)\n",
    "    for i in np.arange(k-1):\n",
    "        # D: distance matrix for X\n",
    "        # distance is from each point to nearest centroid\n",
    "        D = [(d_to_nearest_point(x,centroids))**2 for x in X] \n",
    "        tot = np.sum(D)\n",
    "        weights = D/tot\n",
    "        # find the next centroid with a feasible large distance\n",
    "        # range is cumulative sum of weights. \n",
    "        # pick a random point, and see which range it land on. \n",
    "        # the picked range index corresponds to the next centroid point index.\n",
    "        rand = np.random.random()\n",
    "        idx = -1\n",
    "        sub_tot = 0\n",
    "        while sub_tot < rand:\n",
    "            idx = idx+1\n",
    "            sub_tot+=weights[idx]\n",
    "        centroids.append(X[idx,:])\n",
    "    return centroids"
   ]
  },
  {
   "cell_type": "code",
   "execution_count": 741,
   "metadata": {
    "collapsed": true
   },
   "outputs": [],
   "source": [
    "## K-MC^2 initialization method\n",
    "def init_centroid_markov(X,m,k):\n",
    "    n = X.shape[0]\n",
    "    #randomly select the first centroid point from X\n",
    "    centroid_1=X[np.random.randint(n),:]\n",
    "    #calculate square distance from all points to the first centroid\n",
    "    d = np.linalg.norm(X-centroid_1,axis=1)**2\n",
    "    s = sum(d)\n",
    "    #qx distribution\n",
    "    #qx = 0.5*d/s+1/(2*n)\n",
    "    centroids = np.zeros((k,X.shape[1]))\n",
    "    centroids[0,:] = centroid_1\n",
    "    for i in range(1,k):\n",
    "        # x: point sampled from X\n",
    "        idx = np.random.choice(n, 1)\n",
    "        x = X[idx,:]\n",
    "        dx = np.linalg.norm(x-centroids[i-1,:])**2\n",
    "        d2 = np.linalg.norm(X-centroids[i-1,:],axis=1)**2\n",
    "        s2 = sum(d2)\n",
    "        #qy = 0.5*d2/s2+1/(2*n)\n",
    "        for j in range(1,m):\n",
    "            # y: point sampled from X\n",
    "            idx2 = np.random.choice(n, 1)\n",
    "            y = X[idx2,:]\n",
    "            dy = np.linalg.norm(y-centroids[i-1,:])**2\n",
    "            if dx==0 or (dy*qx[idx])/(dx*qy[idx2]) > np.random.uniform(0,1):\n",
    "                x = y\n",
    "                dx = dy\n",
    "        centroids[i,:] = x\n",
    "    return centroids"
   ]
  },
  {
   "cell_type": "code",
   "execution_count": null,
   "metadata": {
    "collapsed": true
   },
   "outputs": [],
   "source": [
    "## Because kmeans++ initialization method is much slower than K-MC^2 initialization, \n",
    "## K-MC^2 initialization method is used for centroid initializetion."
   ]
  },
  {
   "cell_type": "markdown",
   "metadata": {},
   "source": [
    "# Q3"
   ]
  },
  {
   "cell_type": "code",
   "execution_count": 708,
   "metadata": {
    "collapsed": true
   },
   "outputs": [],
   "source": [
    "## get nearest centroid corresponding to matrix X\n",
    "def get_nearest_center(X,centroids):\n",
    "    # d_matrix: distance from k centroids to data points\n",
    "    # (row: data point from X, column: k)\n",
    "    d_matrix = np.zeros((X.shape[0],len(centroids)))\n",
    "    for j in range(len(centroids)):\n",
    "        d_matrix[:,j] = np.linalg.norm(X-centroids[j],axis=1)**2\n",
    "    # find index in centroids with shortest distance\n",
    "    index = np.argmin(d_matrix, axis=1)\n",
    "    near_cen = centroids[index]\n",
    "    # return nearest centroid\n",
    "    return near_cen"
   ]
  },
  {
   "cell_type": "code",
   "execution_count": 709,
   "metadata": {
    "collapsed": true
   },
   "outputs": [],
   "source": [
    "## mini batch algorithm find final centroids\n",
    "def mini_batch(B_size,X,centroids,T):\n",
    "    for t in range(1,T):\n",
    "        # random data points (B_size) in a batch\n",
    "        X_b_index = np.random.randint(X.shape[0], size=B_size)\n",
    "        X_b = X[X_b_index,:]\n",
    "        cached_center = get_nearest_center(X_b,centroids)\n",
    "        eta = 1.0 / t\n",
    "        # online method to update centroid\n",
    "        cached_center = cached_center+eta*(X_b-cached_center)\n",
    "    return cached_center"
   ]
  },
  {
   "cell_type": "code",
   "execution_count": 710,
   "metadata": {
    "collapsed": true
   },
   "outputs": [],
   "source": [
    "## assign x in X to cluster. distance matrix, \n",
    "## with row: k, column: distance from x to their corresponding centroid\n",
    "def distance_random(X,k_range,m,B_size,T):\n",
    "    d_matrix = np.zeros((len(k_range),B_size))\n",
    "    for i in range(len(k_range)):\n",
    "        k = k_range[i]\n",
    "        # use random initialization method to generate centroids\n",
    "        initial_cen = init_centroid_kmeans(k,X)\n",
    "        f_cen = mini_batch(B_size,X,initial_cen,T)\n",
    "        X_b_index = np.random.randint(X.shape[0], size=B_size)\n",
    "        X_b = X[X_b_index,:]\n",
    "        center_cluster = get_nearest_center(X_b,f_cen)\n",
    "        d_matrix[i,:] = np.linalg.norm(X_b-center_cluster,axis=1)\n",
    "    return d_matrix"
   ]
  },
  {
   "cell_type": "code",
   "execution_count": 720,
   "metadata": {
    "collapsed": true
   },
   "outputs": [],
   "source": [
    "kkk = [5,10,15,25,50,100,200,300,500]\n",
    "import time\n",
    "t0 = time.time()\n",
    "dmatrix_random = distance_random(matrix,kkk,20,200,1000)\n",
    "elapsed1 = (time.time() - t0)"
   ]
  },
  {
   "cell_type": "code",
   "execution_count": 721,
   "metadata": {},
   "outputs": [
    {
     "data": {
      "text/plain": [
       "22.438074111938477"
      ]
     },
     "execution_count": 721,
     "metadata": {},
     "output_type": "execute_result"
    }
   ],
   "source": [
    "elapsed1"
   ]
  },
  {
   "cell_type": "code",
   "execution_count": 722,
   "metadata": {},
   "outputs": [
    {
     "data": {
      "image/png": "[encoded data removed]",
      "text/plain": [
       "<matplotlib.figure.Figure at 0x1299ff358>"
      ]
     },
     "metadata": {},
     "output_type": "display_data"
    }
   ],
   "source": [
    "import matplotlib\n",
    "import matplotlib.pyplot as plt\n",
    "plt.title('random initial method distance on different k')\n",
    "plt.xlabel('k')\n",
    "plt.ylabel('mean distance')\n",
    "x =[5,10,15,25,50,100,200,300,500]\n",
    "y = np.mean(dmatrix_random,axis=1)\n",
    "plt.plot(x,y,'ro-')\n",
    "plt.show()"
   ]
  },
  {
   "cell_type": "code",
   "execution_count": 723,
   "metadata": {},
   "outputs": [
    {
     "data": {
      "text/plain": [
       "array([ 0.37928769,  0.16785418,  0.18385494,  0.1126697 ,  0.08700003,\n",
       "        0.06528206,  0.06122526,  0.05330125,  0.04659398])"
      ]
     },
     "execution_count": 723,
     "metadata": {},
     "output_type": "execute_result"
    }
   ],
   "source": [
    "np.mean(dmatrix_random,axis=1)"
   ]
  },
  {
   "cell_type": "code",
   "execution_count": 724,
   "metadata": {},
   "outputs": [
    {
     "data": {
      "image/png": "[encoded data removed]",
      "text/plain": [
       "<matplotlib.figure.Figure at 0x1306320f0>"
      ]
     },
     "metadata": {},
     "output_type": "display_data"
    }
   ],
   "source": [
    "import matplotlib\n",
    "import matplotlib.pyplot as plt\n",
    "plt.title('random initial method distance on different k')\n",
    "plt.xlabel('k')\n",
    "plt.ylabel('minimum distance')\n",
    "x = [5,10,15,25,50,100,200,300,500]\n",
    "y = np.amin(dmatrix_random,axis=1)\n",
    "plt.plot(x,y,'ro-')\n",
    "plt.show()"
   ]
  },
  {
   "cell_type": "code",
   "execution_count": 725,
   "metadata": {},
   "outputs": [
    {
     "data": {
      "image/png": "[encoded data removed]",
      "text/plain": [
       "<matplotlib.figure.Figure at 0x1307eac18>"
      ]
     },
     "metadata": {},
     "output_type": "display_data"
    }
   ],
   "source": [
    "import matplotlib\n",
    "import matplotlib.pyplot as plt\n",
    "plt.title('random initial method distance on different k')\n",
    "plt.xlabel('k')\n",
    "plt.ylabel('maximum distance')\n",
    "x = [5,10,15,25,50,100,200,300,500]\n",
    "y = np.amax(dmatrix_random,axis=1)\n",
    "plt.plot(x,y,'ro-')\n",
    "plt.show()"
   ]
  },
  {
   "cell_type": "code",
   "execution_count": 726,
   "metadata": {},
   "outputs": [
    {
     "data": {
      "image/png": "[encoded data removed]",
      "text/plain": [
       "<matplotlib.figure.Figure at 0x13072de10>"
      ]
     },
     "metadata": {},
     "output_type": "display_data"
    }
   ],
   "source": [
    "import matplotlib\n",
    "import matplotlib.pyplot as plt\n",
    "plt.title('random initial method distance on different k')\n",
    "plt.xlabel('k')\n",
    "plt.ylabel('error')\n",
    "x = [5,10,15,25,50,100,200,300,500]\n",
    "y = np.sum(dmatrix_random**2,axis=1)\n",
    "plt.plot(x,y,'ro-')\n",
    "plt.show()"
   ]
  },
  {
   "cell_type": "code",
   "execution_count": 727,
   "metadata": {},
   "outputs": [
    {
     "data": {
      "text/plain": [
       "array([ 55.62447939,   9.02688642,   9.84669411,   4.48129507,\n",
       "         2.94668113,   1.63348505,   1.34633592,   1.23592729,   1.0798377 ])"
      ]
     },
     "execution_count": 727,
     "metadata": {},
     "output_type": "execute_result"
    }
   ],
   "source": [
    "np.sum(dmatrix_random**2,axis=1)"
   ]
  },
  {
   "cell_type": "markdown",
   "metadata": {},
   "source": [
    "## Using random centroids initialization method, when k = 500, it has the lowest error 1.0798 (sum of points to centroids distance square). The error decreases when k increases."
   ]
  },
  {
   "cell_type": "code",
   "execution_count": 748,
   "metadata": {
    "collapsed": true
   },
   "outputs": [],
   "source": [
    "def distance_mkk(X,k_range,m,B_size,T):\n",
    "    d_matrix = np.zeros((len(k_range),B_size))\n",
    "    for i in range(len(k_range)):\n",
    "        k = k_range[i]\n",
    "        # use K-MC^2 initialization method to generate centroids\n",
    "        initial_cen = init_centroid_markov(X,m,k)\n",
    "        f_cen = mini_batch(B_size,X,initial_cen,T)\n",
    "        X_b_index = np.random.randint(X.shape[0], size=B_size)\n",
    "        X_b = X[X_b_index,:]\n",
    "        center_cluster = get_nearest_center(X_b,f_cen)\n",
    "        d_matrix[i,:] = np.linalg.norm(X_b-center_cluster,axis=1)\n",
    "    return d_matrix"
   ]
  },
  {
   "cell_type": "code",
   "execution_count": 749,
   "metadata": {
    "collapsed": true
   },
   "outputs": [],
   "source": [
    "kkk = [5,10,15,25,50,100,200,300,500]\n",
    "import time\n",
    "t0 = time.time()\n",
    "dmatrix_mkk = distance_mkk(matrix,kkk,20,200,1000)\n",
    "elapsed = (time.time() - t0)"
   ]
  },
  {
   "cell_type": "code",
   "execution_count": 750,
   "metadata": {},
   "outputs": [
    {
     "data": {
      "text/plain": [
       "1004.6887009143829"
      ]
     },
     "execution_count": 750,
     "metadata": {},
     "output_type": "execute_result"
    }
   ],
   "source": [
    "elapsed"
   ]
  },
  {
   "cell_type": "code",
   "execution_count": 751,
   "metadata": {},
   "outputs": [
    {
     "data": {
      "image/png": "[encoded data removed]",
      "text/plain": [
       "<matplotlib.figure.Figure at 0x10ab96978>"
      ]
     },
     "metadata": {},
     "output_type": "display_data"
    }
   ],
   "source": [
    "import matplotlib\n",
    "import matplotlib.pyplot as plt\n",
    "plt.title('mkk initial method distance on different k')\n",
    "plt.xlabel('k')\n",
    "plt.ylabel('mean distance')\n",
    "x = [5,10,15,25,50,100,200,300,500]\n",
    "y = np.mean(dmatrix_mkk,axis=1)\n",
    "plt.plot(x,y,'ro-')\n",
    "plt.show()"
   ]
  },
  {
   "cell_type": "code",
   "execution_count": 752,
   "metadata": {},
   "outputs": [
    {
     "data": {
      "text/plain": [
       "array([ 0.36884134,  0.23115741,  0.13575981,  0.12680638,  0.09198619,\n",
       "        0.07418839,  0.05837605,  0.05407824,  0.05282014])"
      ]
     },
     "execution_count": 752,
     "metadata": {},
     "output_type": "execute_result"
    }
   ],
   "source": [
    "np.mean(dmatrix_mkk,axis=1)"
   ]
  },
  {
   "cell_type": "code",
   "execution_count": 753,
   "metadata": {},
   "outputs": [
    {
     "data": {
      "image/png": "[encoded data removed]",
      "text/plain": [
       "<matplotlib.figure.Figure at 0x14d146be0>"
      ]
     },
     "metadata": {},
     "output_type": "display_data"
    }
   ],
   "source": [
    "import matplotlib\n",
    "import matplotlib.pyplot as plt\n",
    "plt.title('mkk initial method distance on different k')\n",
    "plt.xlabel('k')\n",
    "plt.ylabel('minimum distance')\n",
    "x = [5,10,15,25,50,100,200,300,500]\n",
    "y = np.amin(dmatrix_mkk,axis=1)\n",
    "plt.plot(x,y,'ro-')\n",
    "plt.show()"
   ]
  },
  {
   "cell_type": "code",
   "execution_count": 754,
   "metadata": {},
   "outputs": [
    {
     "data": {
      "image/png": "[encoded data removed]",
      "text/plain": [
       "<matplotlib.figure.Figure at 0x1235b4208>"
      ]
     },
     "metadata": {},
     "output_type": "display_data"
    }
   ],
   "source": [
    "import matplotlib\n",
    "import matplotlib.pyplot as plt\n",
    "plt.title('random initial method distance on different k')\n",
    "plt.xlabel('k')\n",
    "plt.ylabel('maximum distance')\n",
    "x = [5,10,15,25,50,100,200,300,500]\n",
    "y = np.amax(dmatrix_mkk,axis=1)\n",
    "plt.plot(x,y,'ro-')\n",
    "plt.show()"
   ]
  },
  {
   "cell_type": "code",
   "execution_count": 755,
   "metadata": {},
   "outputs": [
    {
     "data": {
      "image/png": "[encoded data removed]",
      "text/plain": [
       "<matplotlib.figure.Figure at 0x13e963eb8>"
      ]
     },
     "metadata": {},
     "output_type": "display_data"
    }
   ],
   "source": [
    "import matplotlib\n",
    "import matplotlib.pyplot as plt\n",
    "plt.title('mkk initial method distance on different k')\n",
    "plt.xlabel('k')\n",
    "plt.ylabel('error')\n",
    "x = [5,10,15,25,50,100,200,300,500]\n",
    "y1 = np.sum(dmatrix_mkk**2,axis=1)\n",
    "plt.plot(x,y1,'ro-')\n",
    "plt.show()"
   ]
  },
  {
   "cell_type": "code",
   "execution_count": 756,
   "metadata": {},
   "outputs": [
    {
     "data": {
      "text/plain": [
       "array([ 49.41301834,  19.43250842,   5.59155925,   5.48819368,\n",
       "         3.12304677,   1.91128354,   1.5397523 ,   1.30603541,   1.16320376])"
      ]
     },
     "execution_count": 756,
     "metadata": {},
     "output_type": "execute_result"
    }
   ],
   "source": [
    "np.sum(dmatrix_mkk**2,axis=1)"
   ]
  },
  {
   "cell_type": "markdown",
   "metadata": {},
   "source": [
    "## Using k-mc^2 centroids initialization method, when k = 500, it has the lowest error 1.1632 (sum of points to centroids distance square). The error decreases when k increases."
   ]
  },
  {
   "cell_type": "markdown",
   "metadata": {},
   "source": [
    "## compare performance between random and k-mc^2 initialize method"
   ]
  },
  {
   "cell_type": "code",
   "execution_count": 757,
   "metadata": {},
   "outputs": [
    {
     "data": {
      "image/png": "[encoded data removed]",
      "text/plain": [
       "<matplotlib.figure.Figure at 0x13964ebe0>"
      ]
     },
     "metadata": {},
     "output_type": "display_data"
    }
   ],
   "source": [
    "import matplotlib\n",
    "import matplotlib.pyplot as plt\n",
    "plt.title('compare mkk with random initialize')\n",
    "plt.xlabel('k')\n",
    "plt.ylabel('error')\n",
    "x = [5,10,15,25,50,100,200,300,500]\n",
    "y1 = np.sum(dmatrix_mkk**2,axis=1)\n",
    "y2 = np.sum(dmatrix_random**2,axis=1)\n",
    "plt.plot(x,y1,'ro-',x,y2,'bs-')\n",
    "plt.show()"
   ]
  },
  {
   "cell_type": "markdown",
   "metadata": {},
   "source": [
    "## Blue plot is randomized centroids, red plot is k-mc^2 randomized centroids. The performance of k-mc^2 centroids is better than randomized centroids. When k is around 20 and 50, it could be found that randomized centroids error is larger than k-mc^2 centroids error. After k=50, their performance are nearly the same."
   ]
  }
 ],
 "metadata": {
  "kernelspec": {
   "display_name": "Python 3",
   "language": "python",
   "name": "python3"
  },
  "language_info": {
   "codemirror_mode": {
    "name": "ipython",
    "version": 3
   },
   "file_extension": ".py",
   "mimetype": "text/x-python",
   "name": "python",
   "nbconvert_exporter": "python",
   "pygments_lexer": "ipython3",
   "version": "3.6.1"
  }
 },
 "nbformat": 4,
 "nbformat_minor": 2
}
